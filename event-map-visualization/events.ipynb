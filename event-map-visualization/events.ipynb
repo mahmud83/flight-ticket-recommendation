{
 "cells": [
  {
   "cell_type": "code",
   "execution_count": 235,
   "metadata": {},
   "outputs": [],
   "source": [
    "import json\n",
    "import pandas as pd\n",
    "import time\n",
    "from collections import Counter, defaultdict"
   ]
  },
  {
   "cell_type": "code",
   "execution_count": 203,
   "metadata": {},
   "outputs": [],
   "source": [
    "events_by_loc = json.load(open('music200.json', 'r'))"
   ]
  },
  {
   "cell_type": "code",
   "execution_count": 237,
   "metadata": {},
   "outputs": [],
   "source": [
    "today = time.strftime(\"%Y-%m-%d\")"
   ]
  },
  {
   "cell_type": "code",
   "execution_count": 247,
   "metadata": {},
   "outputs": [
    {
     "data": {
      "text/plain": [
       "[{'_links': {'self': {'href': '/discovery/v2/venues/ZFr9jZaedv?locale=en-us'}},\n",
       "  'address': {'line1': '537 West 100 South'},\n",
       "  'city': {'name': 'Salt Lake City'},\n",
       "  'country': {'countryCode': 'US', 'name': 'United States Of America'},\n",
       "  'id': 'ZFr9jZaedv',\n",
       "  'locale': 'en-us',\n",
       "  'location': {'latitude': '40.782001', 'longitude': '-111.7519'},\n",
       "  'name': 'The Complex - UT',\n",
       "  'postalCode': '84108',\n",
       "  'state': {'name': 'Utah', 'stateCode': 'UT'},\n",
       "  'test': False,\n",
       "  'timezone': 'America/Denver',\n",
       "  'type': 'venue',\n",
       "  'upcomingEvents': {'_total': 35, 'tmr': 35}}]"
      ]
     },
     "execution_count": 247,
     "metadata": {},
     "output_type": "execute_result"
    }
   ],
   "source": [
    "e['_embedded']['venues']"
   ]
  },
  {
   "cell_type": "code",
   "execution_count": 259,
   "metadata": {},
   "outputs": [],
   "source": [
    "rows = []\n",
    "for _, info in events_by_loc.items():\n",
    "    loc_name = info['name']\n",
    "    \n",
    "    # print(info)\n",
    "    if 'coordinates' not in info:\n",
    "        continue\n",
    "        \n",
    "    coord = info['coordinates']\n",
    "    events = json.loads(info['events'])\n",
    "    if events['page']['totalElements']:\n",
    "        for e in events['_embedded']['events']:\n",
    "            if 'classifications' in e:\n",
    "                if ('attractions' in e['_embedded'] and len(e['_embedded']['attractions']) > 0\n",
    "                    and len(e['_embedded']['venues']) > 0 and 'address' in e['_embedded']['venues'][0]):\n",
    "                    if 'genre' in e['classifications'][0]:\n",
    "                        topic = e['classifications'][0]['genre']['name']\n",
    "                        if topic != 'Undefined' and topic != 'Alternative' and topic != 'Other':\n",
    "                            date = e['dates']['start']['localDate']\n",
    "                            venue = e['_embedded']['venues'][0]\n",
    "                            line = venue['address'].get('line1') or venue['address'].get('line2')\n",
    "                            if line is None:\n",
    "                                continue\n",
    "                            address = (line + ', ' + venue['city']['name'])\n",
    "                            if date != today:\n",
    "                                rows.append({\n",
    "                                    'name': e['name'], \n",
    "                                    'url': e['url'], \n",
    "                                    'date': date,\n",
    "                                    'country': info['country'],\n",
    "                                    'city': loc_name,\n",
    "                                    'address': address,\n",
    "                                    'attractions': [a['name'] for a in e['_embedded']['attractions'] if 'name' in a],\n",
    "                                    'coord': {'lon': float(coord['lon']), 'lat': float(coord['lat'])},\n",
    "                                    'topic': topic\n",
    "                                })\n"
   ]
  },
  {
   "cell_type": "code",
   "execution_count": 261,
   "metadata": {},
   "outputs": [],
   "source": [
    "topics = Counter()\n",
    "countries = Counter()\n",
    "cities = Counter()\n",
    "city2loc = {}\n",
    "\n",
    "for r in rows:\n",
    "    topics[r['topic']] += 1\n",
    "    countries[r['country']] += 1\n",
    "    cities[r['city']] += 1\n",
    "    city2loc[r['city']] = r['coord']"
   ]
  },
  {
   "cell_type": "code",
   "execution_count": 262,
   "metadata": {},
   "outputs": [],
   "source": [
    "rows_grouped = defaultdict(list)\n",
    "for r in rows:\n",
    "    rows_grouped[r['city']].append(r)"
   ]
  },
  {
   "cell_type": "code",
   "execution_count": 263,
   "metadata": {},
   "outputs": [],
   "source": [
    "json.dump(city2loc, open('city2loc.json', 'w'))"
   ]
  },
  {
   "cell_type": "code",
   "execution_count": 264,
   "metadata": {},
   "outputs": [],
   "source": [
    "json.dump(rows_grouped, open('events_grouped.json', 'w'))"
   ]
  },
  {
   "cell_type": "code",
   "execution_count": 265,
   "metadata": {},
   "outputs": [],
   "source": [
    "json.dump(rows, open('rows.json', 'w'))"
   ]
  }
 ],
 "metadata": {
  "kernelspec": {
   "display_name": "Python 3",
   "language": "python",
   "name": "python3"
  },
  "language_info": {
   "codemirror_mode": {
    "name": "ipython",
    "version": 3
   },
   "file_extension": ".py",
   "mimetype": "text/x-python",
   "name": "python",
   "nbconvert_exporter": "python",
   "pygments_lexer": "ipython3",
   "version": "3.5.2"
  }
 },
 "nbformat": 4,
 "nbformat_minor": 2
}
